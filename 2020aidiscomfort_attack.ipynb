{
  "nbformat": 4,
  "nbformat_minor": 0,
  "metadata": {
    "kernelspec": {
      "name": "python3",
      "display_name": "Python 3",
      "language": "python"
    },
    "language_info": {
      "name": "python",
      "version": "3.7.6",
      "mimetype": "text/x-python",
      "codemirror_mode": {
        "name": "ipython",
        "version": 3
      },
      "pygments_lexer": "ipython3",
      "nbconvert_exporter": "python",
      "file_extension": ".py"
    },
    "colab": {
      "name": "2020aidiscomfort-attack.ipynb",
      "provenance": [],
      "include_colab_link": true
    }
  },
  "cells": [
    {
      "cell_type": "markdown",
      "metadata": {
        "id": "view-in-github",
        "colab_type": "text"
      },
      "source": [
        "<a href=\"https://colab.research.google.com/github/lunaB/2020.AI.Sejong/blob/master/2020aidiscomfort_attack.ipynb\" target=\"_parent\"><img src=\"https://colab.research.google.com/assets/colab-badge.svg\" alt=\"Open In Colab\"/></a>"
      ]
    },
    {
      "cell_type": "markdown",
      "metadata": {
        "id": "cArpkWpzlVKQ",
        "colab_type": "text"
      },
      "source": [
        " 73%  \n",
        " 공격성공(6/15-14:49)"
      ]
    },
    {
      "cell_type": "code",
      "metadata": {
        "id": "ux978jN8REQa",
        "colab_type": "code",
        "colab": {
          "base_uri": "https://localhost:8080/",
          "height": 187
        },
        "outputId": "4bbc9515-5b4e-4d52-fc04-344d6a166995"
      },
      "source": [
        "!mkdir -p ~/.kaggle\n",
        "!cp kaggle.json ~/.kaggle/\n",
        "!chmod 600 ~/.kaggle/kaggle.json\n",
        "\n",
        "!kaggle competitions download -c 2020aidiscomfort"
      ],
      "execution_count": 1,
      "outputs": [
        {
          "output_type": "stream",
          "text": [
            "Warning: Looks like you're using an outdated API Version, please consider updating (server 1.5.6 / client 1.5.4)\n",
            "Downloading submit_sample.csv to /content\n",
            "  0% 0.00/411 [00:00<?, ?B/s]\n",
            "100% 411/411 [00:00<00:00, 359kB/s]\n",
            "Downloading train.csv to /content\n",
            "  0% 0.00/56.2k [00:00<?, ?B/s]\n",
            "100% 56.2k/56.2k [00:00<00:00, 60.4MB/s]\n",
            "Downloading test.csv to /content\n",
            "  0% 0.00/2.39k [00:00<?, ?B/s]\n",
            "100% 2.39k/2.39k [00:00<00:00, 2.39MB/s]\n"
          ],
          "name": "stdout"
        }
      ]
    },
    {
      "cell_type": "code",
      "metadata": {
        "_uuid": "8f2839f25d086af736a60e9eeb907d3b93b6e0e5",
        "_cell_guid": "b1076dfc-b9ad-4769-8c92-a6c4dae69d19",
        "trusted": true,
        "id": "XQ4VAIo6Q7Ja",
        "colab_type": "code",
        "colab": {}
      },
      "source": [
        "import numpy as np\n",
        "import pandas as pd"
      ],
      "execution_count": 0,
      "outputs": []
    },
    {
      "cell_type": "code",
      "metadata": {
        "_uuid": "d629ff2d2480ee46fbb7e2d37f6b5fab8052498a",
        "_cell_guid": "79c7e3d0-c299-4dcb-8224-4455121ee9b0",
        "trusted": true,
        "id": "r200goN4Q7Jf",
        "colab_type": "code",
        "colab": {}
      },
      "source": [
        "import torch\n",
        "import torch.optim as optim\n",
        "import numpy as np\n",
        "import pandas as pd\n",
        "import torch.nn.functional as F\n",
        "import random\n",
        "from sklearn import preprocessing\n",
        "\n",
        "device = 'cuda' if torch.cuda.is_available() else 'cpu'\n",
        "\n",
        "if device == 'cuda':\n",
        "  torch.cuda.manual_seed_all(777)\n",
        "\n",
        "random.seed(777)\n",
        "torch.manual_seed(777)\n",
        "\n",
        "Scaler=preprocessing.StandardScaler()"
      ],
      "execution_count": 0,
      "outputs": []
    },
    {
      "cell_type": "markdown",
      "metadata": {
        "id": "iEsfLZnEQ7Ji",
        "colab_type": "text"
      },
      "source": [
        "* 데이터 로드 및 파싱"
      ]
    },
    {
      "cell_type": "markdown",
      "metadata": {
        "id": "ofFGNl8VjhQa",
        "colab_type": "text"
      },
      "source": [
        "# 차별점 1 데이터 전처리\n",
        "dropna 대신 값을 보간해서 사용함.\n",
        "<pre>\n",
        "xy_data['solar'] = xy_data['solar'].interpolate()\n",
        "xy_data.fillna(value={'rain':0}, inplace=True)\n",
        "</pre>"
      ]
    },
    {
      "cell_type": "code",
      "metadata": {
        "trusted": true,
        "id": "zXE40j46Q7Ji",
        "colab_type": "code",
        "colab": {
          "base_uri": "https://localhost:8080/",
          "height": 595
        },
        "outputId": "deda8914-9de4-4363-eafa-2671c7f0ab5a"
      },
      "source": [
        "xy_data=pd.read_csv('train.csv')\n",
        "print(xy_data.info())\n",
        "print(xy_data.isna().sum())\n",
        "xy_data=xy_data.fillna(0)\n",
        "xy_data.head()"
      ],
      "execution_count": 16,
      "outputs": [
        {
          "output_type": "stream",
          "text": [
            "<class 'pandas.core.frame.DataFrame'>\n",
            "RangeIndex: 1639 entries, 0 to 1638\n",
            "Data columns (total 7 columns):\n",
            " #   Column       Non-Null Count  Dtype  \n",
            "---  ------       --------------  -----  \n",
            " 0   date         1639 non-null   object \n",
            " 1   aveTemp      1639 non-null   float64\n",
            " 2   maxTemp      1639 non-null   float64\n",
            " 3   rain         655 non-null    float64\n",
            " 4   aveHumidity  1639 non-null   float64\n",
            " 5   solar        1620 non-null   float64\n",
            " 6   Category     1639 non-null   int64  \n",
            "dtypes: float64(5), int64(1), object(1)\n",
            "memory usage: 89.8+ KB\n",
            "None\n",
            "date             0\n",
            "aveTemp          0\n",
            "maxTemp          0\n",
            "rain           984\n",
            "aveHumidity      0\n",
            "solar           19\n",
            "Category         0\n",
            "dtype: int64\n"
          ],
          "name": "stdout"
        },
        {
          "output_type": "execute_result",
          "data": {
            "text/html": [
              "<div>\n",
              "<style scoped>\n",
              "    .dataframe tbody tr th:only-of-type {\n",
              "        vertical-align: middle;\n",
              "    }\n",
              "\n",
              "    .dataframe tbody tr th {\n",
              "        vertical-align: top;\n",
              "    }\n",
              "\n",
              "    .dataframe thead th {\n",
              "        text-align: right;\n",
              "    }\n",
              "</style>\n",
              "<table border=\"1\" class=\"dataframe\">\n",
              "  <thead>\n",
              "    <tr style=\"text-align: right;\">\n",
              "      <th></th>\n",
              "      <th>date</th>\n",
              "      <th>aveTemp</th>\n",
              "      <th>maxTemp</th>\n",
              "      <th>rain</th>\n",
              "      <th>aveHumidity</th>\n",
              "      <th>solar</th>\n",
              "      <th>Category</th>\n",
              "    </tr>\n",
              "  </thead>\n",
              "  <tbody>\n",
              "    <tr>\n",
              "      <th>0</th>\n",
              "      <td>2013-01-01</td>\n",
              "      <td>-4.7</td>\n",
              "      <td>0.0</td>\n",
              "      <td>3.1</td>\n",
              "      <td>73.5</td>\n",
              "      <td>5.76</td>\n",
              "      <td>0</td>\n",
              "    </tr>\n",
              "    <tr>\n",
              "      <th>1</th>\n",
              "      <td>2013-01-02</td>\n",
              "      <td>-11.7</td>\n",
              "      <td>-4.8</td>\n",
              "      <td>0.0</td>\n",
              "      <td>40.8</td>\n",
              "      <td>9.62</td>\n",
              "      <td>0</td>\n",
              "    </tr>\n",
              "    <tr>\n",
              "      <th>2</th>\n",
              "      <td>2013-01-03</td>\n",
              "      <td>-13.2</td>\n",
              "      <td>-9.3</td>\n",
              "      <td>0.0</td>\n",
              "      <td>42.8</td>\n",
              "      <td>9.78</td>\n",
              "      <td>0</td>\n",
              "    </tr>\n",
              "    <tr>\n",
              "      <th>3</th>\n",
              "      <td>2013-01-04</td>\n",
              "      <td>-10.7</td>\n",
              "      <td>-5.8</td>\n",
              "      <td>0.0</td>\n",
              "      <td>44.3</td>\n",
              "      <td>9.54</td>\n",
              "      <td>0</td>\n",
              "    </tr>\n",
              "    <tr>\n",
              "      <th>4</th>\n",
              "      <td>2013-01-05</td>\n",
              "      <td>-7.0</td>\n",
              "      <td>-1.2</td>\n",
              "      <td>0.0</td>\n",
              "      <td>59.4</td>\n",
              "      <td>8.09</td>\n",
              "      <td>0</td>\n",
              "    </tr>\n",
              "  </tbody>\n",
              "</table>\n",
              "</div>"
            ],
            "text/plain": [
              "         date  aveTemp  maxTemp  rain  aveHumidity  solar  Category\n",
              "0  2013-01-01     -4.7      0.0   3.1         73.5   5.76         0\n",
              "1  2013-01-02    -11.7     -4.8   0.0         40.8   9.62         0\n",
              "2  2013-01-03    -13.2     -9.3   0.0         42.8   9.78         0\n",
              "3  2013-01-04    -10.7     -5.8   0.0         44.3   9.54         0\n",
              "4  2013-01-05     -7.0     -1.2   0.0         59.4   8.09         0"
            ]
          },
          "metadata": {
            "tags": []
          },
          "execution_count": 16
        }
      ]
    },
    {
      "cell_type": "code",
      "metadata": {
        "id": "ArPkuzm6TdA9",
        "colab_type": "code",
        "colab": {
          "base_uri": "https://localhost:8080/",
          "height": 34
        },
        "outputId": "fcd7cb41-3d86-4e00-f7af-43ea9cc1eba9"
      },
      "source": [
        "xy_data.mean()['solar']"
      ],
      "execution_count": 19,
      "outputs": [
        {
          "output_type": "execute_result",
          "data": {
            "text/plain": [
              "11.695654320987652"
            ]
          },
          "metadata": {
            "tags": []
          },
          "execution_count": 19
        }
      ]
    },
    {
      "cell_type": "code",
      "metadata": {
        "id": "Zc1JfIgMXR5w",
        "colab_type": "code",
        "colab": {
          "base_uri": "https://localhost:8080/",
          "height": 419
        },
        "outputId": "13d6bc0a-696e-438b-a528-518ec97d193b"
      },
      "source": [
        "test_data=pd.read_csv('test.csv')\n",
        "test_data"
      ],
      "execution_count": 39,
      "outputs": [
        {
          "output_type": "execute_result",
          "data": {
            "text/html": [
              "<div>\n",
              "<style scoped>\n",
              "    .dataframe tbody tr th:only-of-type {\n",
              "        vertical-align: middle;\n",
              "    }\n",
              "\n",
              "    .dataframe tbody tr th {\n",
              "        vertical-align: top;\n",
              "    }\n",
              "\n",
              "    .dataframe thead th {\n",
              "        text-align: right;\n",
              "    }\n",
              "</style>\n",
              "<table border=\"1\" class=\"dataframe\">\n",
              "  <thead>\n",
              "    <tr style=\"text-align: right;\">\n",
              "      <th></th>\n",
              "      <th>date</th>\n",
              "      <th>aveTemp</th>\n",
              "      <th>maxTemp</th>\n",
              "      <th>rain</th>\n",
              "      <th>aveHumidity</th>\n",
              "      <th>solar</th>\n",
              "    </tr>\n",
              "  </thead>\n",
              "  <tbody>\n",
              "    <tr>\n",
              "      <th>0</th>\n",
              "      <td>2019-06-06</td>\n",
              "      <td>21.2</td>\n",
              "      <td>25.1</td>\n",
              "      <td>7.5</td>\n",
              "      <td>75.9</td>\n",
              "      <td>5.33</td>\n",
              "    </tr>\n",
              "    <tr>\n",
              "      <th>1</th>\n",
              "      <td>2019-06-07</td>\n",
              "      <td>20.0</td>\n",
              "      <td>24.7</td>\n",
              "      <td>35.3</td>\n",
              "      <td>77.3</td>\n",
              "      <td>13.41</td>\n",
              "    </tr>\n",
              "    <tr>\n",
              "      <th>2</th>\n",
              "      <td>2019-06-09</td>\n",
              "      <td>21.6</td>\n",
              "      <td>26.5</td>\n",
              "      <td>2.5</td>\n",
              "      <td>66.1</td>\n",
              "      <td>16.87</td>\n",
              "    </tr>\n",
              "    <tr>\n",
              "      <th>3</th>\n",
              "      <td>2019-06-10</td>\n",
              "      <td>18.4</td>\n",
              "      <td>21.9</td>\n",
              "      <td>9.5</td>\n",
              "      <td>70.3</td>\n",
              "      <td>11.01</td>\n",
              "    </tr>\n",
              "    <tr>\n",
              "      <th>4</th>\n",
              "      <td>2019-06-15</td>\n",
              "      <td>21.9</td>\n",
              "      <td>27.4</td>\n",
              "      <td>2.1</td>\n",
              "      <td>61.5</td>\n",
              "      <td>25.94</td>\n",
              "    </tr>\n",
              "    <tr>\n",
              "      <th>...</th>\n",
              "      <td>...</td>\n",
              "      <td>...</td>\n",
              "      <td>...</td>\n",
              "      <td>...</td>\n",
              "      <td>...</td>\n",
              "      <td>...</td>\n",
              "    </tr>\n",
              "    <tr>\n",
              "      <th>63</th>\n",
              "      <td>2019-11-15</td>\n",
              "      <td>5.6</td>\n",
              "      <td>7.6</td>\n",
              "      <td>18.8</td>\n",
              "      <td>87.4</td>\n",
              "      <td>1.92</td>\n",
              "    </tr>\n",
              "    <tr>\n",
              "      <th>64</th>\n",
              "      <td>2019-11-17</td>\n",
              "      <td>8.3</td>\n",
              "      <td>10.5</td>\n",
              "      <td>21.1</td>\n",
              "      <td>79.4</td>\n",
              "      <td>1.32</td>\n",
              "    </tr>\n",
              "    <tr>\n",
              "      <th>65</th>\n",
              "      <td>2019-11-18</td>\n",
              "      <td>4.6</td>\n",
              "      <td>12.7</td>\n",
              "      <td>14.7</td>\n",
              "      <td>59.8</td>\n",
              "      <td>10.26</td>\n",
              "    </tr>\n",
              "    <tr>\n",
              "      <th>66</th>\n",
              "      <td>2019-11-19</td>\n",
              "      <td>0.2</td>\n",
              "      <td>4.0</td>\n",
              "      <td>0.0</td>\n",
              "      <td>48.0</td>\n",
              "      <td>11.93</td>\n",
              "    </tr>\n",
              "    <tr>\n",
              "      <th>67</th>\n",
              "      <td>2019-11-24</td>\n",
              "      <td>9.8</td>\n",
              "      <td>15.6</td>\n",
              "      <td>3.8</td>\n",
              "      <td>74.6</td>\n",
              "      <td>3.84</td>\n",
              "    </tr>\n",
              "  </tbody>\n",
              "</table>\n",
              "<p>68 rows × 6 columns</p>\n",
              "</div>"
            ],
            "text/plain": [
              "          date  aveTemp  maxTemp  rain  aveHumidity  solar\n",
              "0   2019-06-06     21.2     25.1   7.5         75.9   5.33\n",
              "1   2019-06-07     20.0     24.7  35.3         77.3  13.41\n",
              "2   2019-06-09     21.6     26.5   2.5         66.1  16.87\n",
              "3   2019-06-10     18.4     21.9   9.5         70.3  11.01\n",
              "4   2019-06-15     21.9     27.4   2.1         61.5  25.94\n",
              "..         ...      ...      ...   ...          ...    ...\n",
              "63  2019-11-15      5.6      7.6  18.8         87.4   1.92\n",
              "64  2019-11-17      8.3     10.5  21.1         79.4   1.32\n",
              "65  2019-11-18      4.6     12.7  14.7         59.8  10.26\n",
              "66  2019-11-19      0.2      4.0   0.0         48.0  11.93\n",
              "67  2019-11-24      9.8     15.6   3.8         74.6   3.84\n",
              "\n",
              "[68 rows x 6 columns]"
            ]
          },
          "metadata": {
            "tags": []
          },
          "execution_count": 39
        }
      ]
    },
    {
      "cell_type": "code",
      "metadata": {
        "id": "qSW1zYwGSfTM",
        "colab_type": "code",
        "colab": {
          "base_uri": "https://localhost:8080/",
          "height": 419
        },
        "outputId": "1ead5332-d96b-4470-adae-b6b76b914184"
      },
      "source": [
        "import datetime as dt\n",
        "\n",
        "xy_data=pd.read_csv('train.csv')\n",
        "xy_data['solar'] = xy_data['solar'].interpolate()\n",
        "xy_data.fillna(value={'rain':0}, inplace=True)\n",
        "\n",
        "xy_data['date'] = pd.to_datetime(xy_data['date'])\n",
        "xy_data['date'] = xy_data['date'].map(dt.datetime.toordinal)\n",
        "xy_data"
      ],
      "execution_count": 42,
      "outputs": [
        {
          "output_type": "execute_result",
          "data": {
            "text/html": [
              "<div>\n",
              "<style scoped>\n",
              "    .dataframe tbody tr th:only-of-type {\n",
              "        vertical-align: middle;\n",
              "    }\n",
              "\n",
              "    .dataframe tbody tr th {\n",
              "        vertical-align: top;\n",
              "    }\n",
              "\n",
              "    .dataframe thead th {\n",
              "        text-align: right;\n",
              "    }\n",
              "</style>\n",
              "<table border=\"1\" class=\"dataframe\">\n",
              "  <thead>\n",
              "    <tr style=\"text-align: right;\">\n",
              "      <th></th>\n",
              "      <th>date</th>\n",
              "      <th>aveTemp</th>\n",
              "      <th>maxTemp</th>\n",
              "      <th>rain</th>\n",
              "      <th>aveHumidity</th>\n",
              "      <th>solar</th>\n",
              "      <th>Category</th>\n",
              "    </tr>\n",
              "  </thead>\n",
              "  <tbody>\n",
              "    <tr>\n",
              "      <th>0</th>\n",
              "      <td>734869</td>\n",
              "      <td>-4.7</td>\n",
              "      <td>0.0</td>\n",
              "      <td>3.1</td>\n",
              "      <td>73.5</td>\n",
              "      <td>5.76</td>\n",
              "      <td>0</td>\n",
              "    </tr>\n",
              "    <tr>\n",
              "      <th>1</th>\n",
              "      <td>734870</td>\n",
              "      <td>-11.7</td>\n",
              "      <td>-4.8</td>\n",
              "      <td>0.0</td>\n",
              "      <td>40.8</td>\n",
              "      <td>9.62</td>\n",
              "      <td>0</td>\n",
              "    </tr>\n",
              "    <tr>\n",
              "      <th>2</th>\n",
              "      <td>734871</td>\n",
              "      <td>-13.2</td>\n",
              "      <td>-9.3</td>\n",
              "      <td>0.0</td>\n",
              "      <td>42.8</td>\n",
              "      <td>9.78</td>\n",
              "      <td>0</td>\n",
              "    </tr>\n",
              "    <tr>\n",
              "      <th>3</th>\n",
              "      <td>734872</td>\n",
              "      <td>-10.7</td>\n",
              "      <td>-5.8</td>\n",
              "      <td>0.0</td>\n",
              "      <td>44.3</td>\n",
              "      <td>9.54</td>\n",
              "      <td>0</td>\n",
              "    </tr>\n",
              "    <tr>\n",
              "      <th>4</th>\n",
              "      <td>734873</td>\n",
              "      <td>-7.0</td>\n",
              "      <td>-1.2</td>\n",
              "      <td>0.0</td>\n",
              "      <td>59.4</td>\n",
              "      <td>8.09</td>\n",
              "      <td>0</td>\n",
              "    </tr>\n",
              "    <tr>\n",
              "      <th>...</th>\n",
              "      <td>...</td>\n",
              "      <td>...</td>\n",
              "      <td>...</td>\n",
              "      <td>...</td>\n",
              "      <td>...</td>\n",
              "      <td>...</td>\n",
              "      <td>...</td>\n",
              "    </tr>\n",
              "    <tr>\n",
              "      <th>1634</th>\n",
              "      <td>737055</td>\n",
              "      <td>-10.1</td>\n",
              "      <td>-6.5</td>\n",
              "      <td>0.0</td>\n",
              "      <td>28.3</td>\n",
              "      <td>10.44</td>\n",
              "      <td>0</td>\n",
              "    </tr>\n",
              "    <tr>\n",
              "      <th>1635</th>\n",
              "      <td>737056</td>\n",
              "      <td>-10.5</td>\n",
              "      <td>-6.6</td>\n",
              "      <td>0.0</td>\n",
              "      <td>33.0</td>\n",
              "      <td>10.36</td>\n",
              "      <td>0</td>\n",
              "    </tr>\n",
              "    <tr>\n",
              "      <th>1636</th>\n",
              "      <td>737057</td>\n",
              "      <td>-7.6</td>\n",
              "      <td>-3.0</td>\n",
              "      <td>0.0</td>\n",
              "      <td>29.0</td>\n",
              "      <td>10.57</td>\n",
              "      <td>0</td>\n",
              "    </tr>\n",
              "    <tr>\n",
              "      <th>1637</th>\n",
              "      <td>737058</td>\n",
              "      <td>-6.8</td>\n",
              "      <td>-0.9</td>\n",
              "      <td>0.0</td>\n",
              "      <td>35.9</td>\n",
              "      <td>10.48</td>\n",
              "      <td>0</td>\n",
              "    </tr>\n",
              "    <tr>\n",
              "      <th>1638</th>\n",
              "      <td>737059</td>\n",
              "      <td>-5.4</td>\n",
              "      <td>-0.5</td>\n",
              "      <td>0.0</td>\n",
              "      <td>39.6</td>\n",
              "      <td>9.16</td>\n",
              "      <td>0</td>\n",
              "    </tr>\n",
              "  </tbody>\n",
              "</table>\n",
              "<p>1639 rows × 7 columns</p>\n",
              "</div>"
            ],
            "text/plain": [
              "        date  aveTemp  maxTemp  rain  aveHumidity  solar  Category\n",
              "0     734869     -4.7      0.0   3.1         73.5   5.76         0\n",
              "1     734870    -11.7     -4.8   0.0         40.8   9.62         0\n",
              "2     734871    -13.2     -9.3   0.0         42.8   9.78         0\n",
              "3     734872    -10.7     -5.8   0.0         44.3   9.54         0\n",
              "4     734873     -7.0     -1.2   0.0         59.4   8.09         0\n",
              "...      ...      ...      ...   ...          ...    ...       ...\n",
              "1634  737055    -10.1     -6.5   0.0         28.3  10.44         0\n",
              "1635  737056    -10.5     -6.6   0.0         33.0  10.36         0\n",
              "1636  737057     -7.6     -3.0   0.0         29.0  10.57         0\n",
              "1637  737058     -6.8     -0.9   0.0         35.9  10.48         0\n",
              "1638  737059     -5.4     -0.5   0.0         39.6   9.16         0\n",
              "\n",
              "[1639 rows x 7 columns]"
            ]
          },
          "metadata": {
            "tags": []
          },
          "execution_count": 42
        }
      ]
    },
    {
      "cell_type": "code",
      "metadata": {
        "id": "2s9TSjK_YfFE",
        "colab_type": "code",
        "colab": {
          "base_uri": "https://localhost:8080/",
          "height": 419
        },
        "outputId": "4c9f52fe-be4f-4d03-c11a-e5181e3a299f"
      },
      "source": [
        "test_data = pd.read_csv('test.csv')\n",
        "test_data['solar'] = test_data['solar'].interpolate()\n",
        "test_data.fillna(value={'rain':0}, inplace=True)\n",
        "\n",
        "test_data['date'] = pd.to_datetime(test_data['date'])\n",
        "test_data['date'] = test_data['date'].map(dt.datetime.toordinal)\n",
        "test_data"
      ],
      "execution_count": 44,
      "outputs": [
        {
          "output_type": "execute_result",
          "data": {
            "text/html": [
              "<div>\n",
              "<style scoped>\n",
              "    .dataframe tbody tr th:only-of-type {\n",
              "        vertical-align: middle;\n",
              "    }\n",
              "\n",
              "    .dataframe tbody tr th {\n",
              "        vertical-align: top;\n",
              "    }\n",
              "\n",
              "    .dataframe thead th {\n",
              "        text-align: right;\n",
              "    }\n",
              "</style>\n",
              "<table border=\"1\" class=\"dataframe\">\n",
              "  <thead>\n",
              "    <tr style=\"text-align: right;\">\n",
              "      <th></th>\n",
              "      <th>date</th>\n",
              "      <th>aveTemp</th>\n",
              "      <th>maxTemp</th>\n",
              "      <th>rain</th>\n",
              "      <th>aveHumidity</th>\n",
              "      <th>solar</th>\n",
              "    </tr>\n",
              "  </thead>\n",
              "  <tbody>\n",
              "    <tr>\n",
              "      <th>0</th>\n",
              "      <td>737216</td>\n",
              "      <td>21.2</td>\n",
              "      <td>25.1</td>\n",
              "      <td>7.5</td>\n",
              "      <td>75.9</td>\n",
              "      <td>5.33</td>\n",
              "    </tr>\n",
              "    <tr>\n",
              "      <th>1</th>\n",
              "      <td>737217</td>\n",
              "      <td>20.0</td>\n",
              "      <td>24.7</td>\n",
              "      <td>35.3</td>\n",
              "      <td>77.3</td>\n",
              "      <td>13.41</td>\n",
              "    </tr>\n",
              "    <tr>\n",
              "      <th>2</th>\n",
              "      <td>737219</td>\n",
              "      <td>21.6</td>\n",
              "      <td>26.5</td>\n",
              "      <td>2.5</td>\n",
              "      <td>66.1</td>\n",
              "      <td>16.87</td>\n",
              "    </tr>\n",
              "    <tr>\n",
              "      <th>3</th>\n",
              "      <td>737220</td>\n",
              "      <td>18.4</td>\n",
              "      <td>21.9</td>\n",
              "      <td>9.5</td>\n",
              "      <td>70.3</td>\n",
              "      <td>11.01</td>\n",
              "    </tr>\n",
              "    <tr>\n",
              "      <th>4</th>\n",
              "      <td>737225</td>\n",
              "      <td>21.9</td>\n",
              "      <td>27.4</td>\n",
              "      <td>2.1</td>\n",
              "      <td>61.5</td>\n",
              "      <td>25.94</td>\n",
              "    </tr>\n",
              "    <tr>\n",
              "      <th>...</th>\n",
              "      <td>...</td>\n",
              "      <td>...</td>\n",
              "      <td>...</td>\n",
              "      <td>...</td>\n",
              "      <td>...</td>\n",
              "      <td>...</td>\n",
              "    </tr>\n",
              "    <tr>\n",
              "      <th>63</th>\n",
              "      <td>737378</td>\n",
              "      <td>5.6</td>\n",
              "      <td>7.6</td>\n",
              "      <td>18.8</td>\n",
              "      <td>87.4</td>\n",
              "      <td>1.92</td>\n",
              "    </tr>\n",
              "    <tr>\n",
              "      <th>64</th>\n",
              "      <td>737380</td>\n",
              "      <td>8.3</td>\n",
              "      <td>10.5</td>\n",
              "      <td>21.1</td>\n",
              "      <td>79.4</td>\n",
              "      <td>1.32</td>\n",
              "    </tr>\n",
              "    <tr>\n",
              "      <th>65</th>\n",
              "      <td>737381</td>\n",
              "      <td>4.6</td>\n",
              "      <td>12.7</td>\n",
              "      <td>14.7</td>\n",
              "      <td>59.8</td>\n",
              "      <td>10.26</td>\n",
              "    </tr>\n",
              "    <tr>\n",
              "      <th>66</th>\n",
              "      <td>737382</td>\n",
              "      <td>0.2</td>\n",
              "      <td>4.0</td>\n",
              "      <td>0.0</td>\n",
              "      <td>48.0</td>\n",
              "      <td>11.93</td>\n",
              "    </tr>\n",
              "    <tr>\n",
              "      <th>67</th>\n",
              "      <td>737387</td>\n",
              "      <td>9.8</td>\n",
              "      <td>15.6</td>\n",
              "      <td>3.8</td>\n",
              "      <td>74.6</td>\n",
              "      <td>3.84</td>\n",
              "    </tr>\n",
              "  </tbody>\n",
              "</table>\n",
              "<p>68 rows × 6 columns</p>\n",
              "</div>"
            ],
            "text/plain": [
              "      date  aveTemp  maxTemp  rain  aveHumidity  solar\n",
              "0   737216     21.2     25.1   7.5         75.9   5.33\n",
              "1   737217     20.0     24.7  35.3         77.3  13.41\n",
              "2   737219     21.6     26.5   2.5         66.1  16.87\n",
              "3   737220     18.4     21.9   9.5         70.3  11.01\n",
              "4   737225     21.9     27.4   2.1         61.5  25.94\n",
              "..     ...      ...      ...   ...          ...    ...\n",
              "63  737378      5.6      7.6  18.8         87.4   1.92\n",
              "64  737380      8.3     10.5  21.1         79.4   1.32\n",
              "65  737381      4.6     12.7  14.7         59.8  10.26\n",
              "66  737382      0.2      4.0   0.0         48.0  11.93\n",
              "67  737387      9.8     15.6   3.8         74.6   3.84\n",
              "\n",
              "[68 rows x 6 columns]"
            ]
          },
          "metadata": {
            "tags": []
          },
          "execution_count": 44
        }
      ]
    },
    {
      "cell_type": "code",
      "metadata": {
        "id": "P9fWx74gWvQZ",
        "colab_type": "code",
        "colab": {
          "base_uri": "https://localhost:8080/",
          "height": 153
        },
        "outputId": "1ad0f438-d431-4e2d-a95a-87d3df057e2d"
      },
      "source": [
        "xy_data.isna().sum()"
      ],
      "execution_count": 45,
      "outputs": [
        {
          "output_type": "execute_result",
          "data": {
            "text/plain": [
              "date           0\n",
              "aveTemp        0\n",
              "maxTemp        0\n",
              "rain           0\n",
              "aveHumidity    0\n",
              "solar          0\n",
              "Category       0\n",
              "dtype: int64"
            ]
          },
          "metadata": {
            "tags": []
          },
          "execution_count": 45
        }
      ]
    },
    {
      "cell_type": "code",
      "metadata": {
        "id": "hFXU9s5aYqMr",
        "colab_type": "code",
        "colab": {
          "base_uri": "https://localhost:8080/",
          "height": 136
        },
        "outputId": "2753eec3-bb97-43d5-824a-466b4c9ac7fc"
      },
      "source": [
        "test_data.isna().sum()"
      ],
      "execution_count": 46,
      "outputs": [
        {
          "output_type": "execute_result",
          "data": {
            "text/plain": [
              "date           0\n",
              "aveTemp        0\n",
              "maxTemp        0\n",
              "rain           0\n",
              "aveHumidity    0\n",
              "solar          0\n",
              "dtype: int64"
            ]
          },
          "metadata": {
            "tags": []
          },
          "execution_count": 46
        }
      ]
    },
    {
      "cell_type": "code",
      "metadata": {
        "trusted": true,
        "id": "sZwqDDmVQ7Jl",
        "colab_type": "code",
        "colab": {}
      },
      "source": [
        "x_data=xy_data.loc[:,'aveTemp':'solar']\n",
        "y_data=xy_data.loc[:,'Category']"
      ],
      "execution_count": 0,
      "outputs": []
    },
    {
      "cell_type": "code",
      "metadata": {
        "trusted": true,
        "id": "hdvL_LBjQ7Jn",
        "colab_type": "code",
        "colab": {}
      },
      "source": [
        "x_data=np.array(x_data,dtype=float)\n",
        "y_data=np.array(y_data,dtype=float)\n",
        "\n",
        "x_data=Scaler.fit_transform(x_data)\n",
        "x_train=torch.FloatTensor(x_data).to(device)\n",
        "y_train=torch.LongTensor(y_data).to(device)"
      ],
      "execution_count": 0,
      "outputs": []
    },
    {
      "cell_type": "code",
      "metadata": {
        "trusted": true,
        "id": "DY0Pn_1sQ7Jq",
        "colab_type": "code",
        "colab": {}
      },
      "source": [
        "train_dataset=torch.utils.data.TensorDataset(x_train, y_train)"
      ],
      "execution_count": 0,
      "outputs": []
    },
    {
      "cell_type": "markdown",
      "metadata": {
        "id": "TSRy51kAkQxs",
        "colab_type": "text"
      },
      "source": [
        "# 차별점2 (파라메터)\n",
        "batch size가 너무 작음 (10 -> 100)"
      ]
    },
    {
      "cell_type": "code",
      "metadata": {
        "trusted": true,
        "id": "UlR0rFv2Q7Jt",
        "colab_type": "code",
        "colab": {}
      },
      "source": [
        "# 학습 파라미터 설정\n",
        "learning_rate = 0.01\n",
        "batch_size = 100"
      ],
      "execution_count": 0,
      "outputs": []
    },
    {
      "cell_type": "code",
      "metadata": {
        "trusted": true,
        "id": "UQvHt8lsQ7Jv",
        "colab_type": "code",
        "colab": {}
      },
      "source": [
        "data_loader = torch.utils.data.DataLoader(dataset=train_dataset,\n",
        "                                          batch_size=batch_size,\n",
        "                                          shuffle=True,\n",
        "                                          drop_last=True)"
      ],
      "execution_count": 0,
      "outputs": []
    },
    {
      "cell_type": "markdown",
      "metadata": {
        "id": "BSJfk-jNQ7Jy",
        "colab_type": "text"
      },
      "source": [
        "* 모델 설계"
      ]
    },
    {
      "cell_type": "markdown",
      "metadata": {
        "id": "EJAhiXLMkl-4",
        "colab_type": "text"
      },
      "source": [
        "# 차별점3 (모델 세부)\n",
        "학습데이터 변화에 따른 모델의 size 변경  \n",
        "ReLU -> LeakyReLU"
      ]
    },
    {
      "cell_type": "code",
      "metadata": {
        "trusted": true,
        "id": "RIs76g4zQ7Jy",
        "colab_type": "code",
        "colab": {}
      },
      "source": [
        "linear1=torch.nn.Linear(5,5,bias=True)\n",
        "linear2=torch.nn.Linear(5,5,bias=True)\n",
        "linear3=torch.nn.Linear(5,5,bias=True)\n",
        "linear4=torch.nn.Linear(5,5,bias=True)\n",
        "linear5=torch.nn.Linear(5,4,bias=True)\n",
        "relu=torch.nn.LeakyReLU()"
      ],
      "execution_count": 0,
      "outputs": []
    },
    {
      "cell_type": "code",
      "metadata": {
        "trusted": true,
        "id": "nQ_a-KdjQ7J0",
        "colab_type": "code",
        "outputId": "77ab41be-795f-440d-c033-1a0248c491ac",
        "colab": {
          "base_uri": "https://localhost:8080/",
          "height": 102
        }
      },
      "source": [
        "torch.nn.init.xavier_normal_(linear1.weight)\n",
        "torch.nn.init.xavier_normal_(linear2.weight)\n",
        "torch.nn.init.xavier_normal_(linear3.weight)\n",
        "torch.nn.init.xavier_normal_(linear4.weight)\n",
        "torch.nn.init.xavier_normal_(linear5.weight)"
      ],
      "execution_count": 177,
      "outputs": [
        {
          "output_type": "execute_result",
          "data": {
            "text/plain": [
              "Parameter containing:\n",
              "tensor([[-0.6200, -0.4265,  0.1492,  0.6921,  0.6311],\n",
              "        [ 0.2615, -0.1197,  0.1343,  0.2640,  0.3255],\n",
              "        [ 0.5768,  0.5881, -0.8226, -0.4264, -0.6211],\n",
              "        [-0.3756,  0.2849,  0.0681, -0.4451,  0.1572]], requires_grad=True)"
            ]
          },
          "metadata": {
            "tags": []
          },
          "execution_count": 177
        }
      ]
    },
    {
      "cell_type": "code",
      "metadata": {
        "trusted": true,
        "id": "ybRlzGAVQ7J3",
        "colab_type": "code",
        "colab": {}
      },
      "source": [
        "model=torch.nn.Sequential(linear1,relu,\n",
        "                          linear2,relu,\n",
        "                          linear3,relu,\n",
        "                          linear4,relu,\n",
        "                          linear5\n",
        "                          ).to(device)"
      ],
      "execution_count": 0,
      "outputs": []
    },
    {
      "cell_type": "code",
      "metadata": {
        "trusted": true,
        "id": "Ie0DxULzQ7J5",
        "colab_type": "code",
        "colab": {}
      },
      "source": [
        "loss = torch.nn.CrossEntropyLoss().to(device) # softmax 내부적으로 계산\n",
        "optimizer = torch.optim.Adam(model.parameters(), lr=learning_rate) "
      ],
      "execution_count": 0,
      "outputs": []
    },
    {
      "cell_type": "markdown",
      "metadata": {
        "id": "vdfwfIilQ7J7",
        "colab_type": "text"
      },
      "source": [
        "* 모델 학습"
      ]
    },
    {
      "cell_type": "code",
      "metadata": {
        "trusted": true,
        "id": "Pzbeu5X0Q7J8",
        "colab_type": "code",
        "outputId": "3abbe186-93db-4fda-d61e-ff6e51c03203",
        "colab": {
          "base_uri": "https://localhost:8080/",
          "height": 102
        }
      },
      "source": [
        "total_batch = len(data_loader)\n",
        "for epoch in range(300+1):\n",
        "    avg_cost = 0\n",
        "\n",
        "    for X, Y in data_loader:\n",
        "\n",
        "        X = X.to(device)\n",
        "        Y = Y.to(device)\n",
        "      \n",
        "        optimizer.zero_grad()\n",
        "        hypothesis = model(X)\n",
        "        cost = loss(hypothesis, Y)\n",
        "        cost.backward()\n",
        "        optimizer.step()\n",
        "\n",
        "        avg_cost += cost / total_batch\n",
        "\n",
        "    if epoch%100 == 0:\n",
        "        print('Epoch:', '%04d' % (epoch + 1), 'cost =', '{:.9f}'.format(avg_cost))\n",
        "\n",
        "print('Learning finished')"
      ],
      "execution_count": 180,
      "outputs": [
        {
          "output_type": "stream",
          "text": [
            "Epoch: 0001 cost = 1.594089746\n",
            "Epoch: 0101 cost = 0.528006375\n",
            "Epoch: 0201 cost = 0.514517486\n",
            "Epoch: 0301 cost = 0.509522140\n",
            "Learning finished\n"
          ],
          "name": "stdout"
        }
      ]
    },
    {
      "cell_type": "markdown",
      "metadata": {
        "id": "krukhg_XQ7J-",
        "colab_type": "text"
      },
      "source": [
        "* 모델 평가"
      ]
    },
    {
      "cell_type": "code",
      "metadata": {
        "trusted": true,
        "id": "w3kGOw-3Q7KA",
        "colab_type": "code",
        "colab": {}
      },
      "source": [
        "with torch.no_grad():\n",
        "    test=test_data.loc[:,'aveTemp':'solar']\n",
        "    test=np.array(test,dtype=float)\n",
        "    test=Scaler.transform(test)\n",
        "    test=torch.from_numpy(test).float().to(device)\n",
        "    prediction = model(test)\n",
        "    correct_prediction = torch.argmax(prediction,dim=1)\n"
      ],
      "execution_count": 0,
      "outputs": []
    },
    {
      "cell_type": "markdown",
      "metadata": {
        "id": "4dz1P0cOQ7KC",
        "colab_type": "text"
      },
      "source": [
        "* 결과값 제출"
      ]
    },
    {
      "cell_type": "code",
      "metadata": {
        "trusted": true,
        "id": "uStgSeuqQ7KD",
        "colab_type": "code",
        "outputId": "550a49ef-bd1b-4c80-ee1c-296f08ddd606",
        "colab": {
          "base_uri": "https://localhost:8080/",
          "height": 419
        }
      },
      "source": [
        "result=pd.read_csv('submit_sample.csv')\n",
        "result"
      ],
      "execution_count": 182,
      "outputs": [
        {
          "output_type": "execute_result",
          "data": {
            "text/html": [
              "<div>\n",
              "<style scoped>\n",
              "    .dataframe tbody tr th:only-of-type {\n",
              "        vertical-align: middle;\n",
              "    }\n",
              "\n",
              "    .dataframe tbody tr th {\n",
              "        vertical-align: top;\n",
              "    }\n",
              "\n",
              "    .dataframe thead th {\n",
              "        text-align: right;\n",
              "    }\n",
              "</style>\n",
              "<table border=\"1\" class=\"dataframe\">\n",
              "  <thead>\n",
              "    <tr style=\"text-align: right;\">\n",
              "      <th></th>\n",
              "      <th>Id</th>\n",
              "      <th>Category</th>\n",
              "    </tr>\n",
              "  </thead>\n",
              "  <tbody>\n",
              "    <tr>\n",
              "      <th>0</th>\n",
              "      <td>0</td>\n",
              "      <td>0</td>\n",
              "    </tr>\n",
              "    <tr>\n",
              "      <th>1</th>\n",
              "      <td>1</td>\n",
              "      <td>0</td>\n",
              "    </tr>\n",
              "    <tr>\n",
              "      <th>2</th>\n",
              "      <td>2</td>\n",
              "      <td>0</td>\n",
              "    </tr>\n",
              "    <tr>\n",
              "      <th>3</th>\n",
              "      <td>3</td>\n",
              "      <td>0</td>\n",
              "    </tr>\n",
              "    <tr>\n",
              "      <th>4</th>\n",
              "      <td>4</td>\n",
              "      <td>0</td>\n",
              "    </tr>\n",
              "    <tr>\n",
              "      <th>...</th>\n",
              "      <td>...</td>\n",
              "      <td>...</td>\n",
              "    </tr>\n",
              "    <tr>\n",
              "      <th>63</th>\n",
              "      <td>63</td>\n",
              "      <td>0</td>\n",
              "    </tr>\n",
              "    <tr>\n",
              "      <th>64</th>\n",
              "      <td>64</td>\n",
              "      <td>0</td>\n",
              "    </tr>\n",
              "    <tr>\n",
              "      <th>65</th>\n",
              "      <td>65</td>\n",
              "      <td>0</td>\n",
              "    </tr>\n",
              "    <tr>\n",
              "      <th>66</th>\n",
              "      <td>66</td>\n",
              "      <td>0</td>\n",
              "    </tr>\n",
              "    <tr>\n",
              "      <th>67</th>\n",
              "      <td>67</td>\n",
              "      <td>0</td>\n",
              "    </tr>\n",
              "  </tbody>\n",
              "</table>\n",
              "<p>68 rows × 2 columns</p>\n",
              "</div>"
            ],
            "text/plain": [
              "    Id  Category\n",
              "0    0         0\n",
              "1    1         0\n",
              "2    2         0\n",
              "3    3         0\n",
              "4    4         0\n",
              "..  ..       ...\n",
              "63  63         0\n",
              "64  64         0\n",
              "65  65         0\n",
              "66  66         0\n",
              "67  67         0\n",
              "\n",
              "[68 rows x 2 columns]"
            ]
          },
          "metadata": {
            "tags": []
          },
          "execution_count": 182
        }
      ]
    },
    {
      "cell_type": "code",
      "metadata": {
        "trusted": true,
        "id": "Cc-rjmF0Q7KF",
        "colab_type": "code",
        "outputId": "db381c23-841e-4985-cc75-b50dcae317bf",
        "colab": {
          "base_uri": "https://localhost:8080/",
          "height": 255
        }
      },
      "source": [
        "for i in range(len(prediction)):\n",
        "    result['Category'][i]=correct_prediction[i]\n",
        "print(result)"
      ],
      "execution_count": 183,
      "outputs": [
        {
          "output_type": "stream",
          "text": [
            "    Id  Category\n",
            "0    0         1\n",
            "1    1         1\n",
            "2    2         1\n",
            "3    3         1\n",
            "4    4         2\n",
            "..  ..       ...\n",
            "63  63         0\n",
            "64  64         0\n",
            "65  65         0\n",
            "66  66         0\n",
            "67  67         0\n",
            "\n",
            "[68 rows x 2 columns]\n"
          ],
          "name": "stdout"
        }
      ]
    },
    {
      "cell_type": "code",
      "metadata": {
        "trusted": true,
        "id": "XjN_QsjvQ7KH",
        "colab_type": "code",
        "colab": {}
      },
      "source": [
        "result.to_csv('submission.csv',index=False)"
      ],
      "execution_count": 0,
      "outputs": []
    },
    {
      "cell_type": "code",
      "metadata": {
        "trusted": true,
        "id": "yZGBZN5SQ7KJ",
        "colab_type": "code",
        "colab": {
          "base_uri": "https://localhost:8080/",
          "height": 68
        },
        "outputId": "f290c649-234d-43cc-e088-0970ad39d4ea"
      },
      "source": [
        "!kaggle competitions submit -c 2020aidiscomfort -f 'submission.csv' -m \"19010642_나영채\""
      ],
      "execution_count": 185,
      "outputs": [
        {
          "output_type": "stream",
          "text": [
            "Warning: Looks like you're using an outdated API Version, please consider updating (server 1.5.6 / client 1.5.4)\n",
            "100% 342/342 [00:03<00:00, 104B/s]\n",
            "Successfully submitted to 2020.AI.Discomfort"
          ],
          "name": "stdout"
        }
      ]
    },
    {
      "cell_type": "code",
      "metadata": {
        "id": "tSHaDb_1afyC",
        "colab_type": "code",
        "colab": {}
      },
      "source": [
        ""
      ],
      "execution_count": 0,
      "outputs": []
    }
  ]
}